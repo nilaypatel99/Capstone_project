{
  "nbformat": 4,
  "nbformat_minor": 0,
  "metadata": {
    "colab": {
      "provenance": [],
      "gpuType": "T4",
      "include_colab_link": true
    },
    "kernelspec": {
      "name": "python3",
      "display_name": "Python 3"
    },
    "language_info": {
      "name": "python"
    },
    "accelerator": "GPU"
  },
  "cells": [
    {
      "cell_type": "markdown",
      "metadata": {
        "id": "view-in-github",
        "colab_type": "text"
      },
      "source": [
        "<a href=\"https://colab.research.google.com/github/nilaypatel99/Capstone_project/blob/main/unet_seg.ipynb\" target=\"_parent\"><img src=\"https://colab.research.google.com/assets/colab-badge.svg\" alt=\"Open In Colab\"/></a>"
      ]
    },
    {
      "cell_type": "code",
      "source": [
        "from google.colab import drive\n",
        "drive.mount('/content/drive')"
      ],
      "metadata": {
        "colab": {
          "base_uri": "https://localhost:8080/"
        },
        "id": "7WmV444TLHn-",
        "outputId": "4e4c726a-675a-47d9-88c8-5c0ccf91ab77"
      },
      "execution_count": null,
      "outputs": [
        {
          "output_type": "stream",
          "name": "stdout",
          "text": [
            "Mounted at /content/drive\n"
          ]
        }
      ]
    },
    {
      "cell_type": "code",
      "execution_count": null,
      "metadata": {
        "id": "KJ7FklatvX6h"
      },
      "outputs": [],
      "source": [
        "from tensorflow.keras.utils import normalize\n",
        "import os\n",
        "import cv2\n",
        "from PIL import Image\n",
        "import numpy as np\n",
        "from matplotlib import pyplot as plt\n",
        "from sklearn.preprocessing import MinMaxScaler\n",
        "from keras.optimizers import Adam\n",
        "import glob"
      ]
    },
    {
      "cell_type": "code",
      "source": [
        "image_directory = '/content/drive/MyDrive/unet_images/new/image_resize'\n",
        "mask_directory = '/content/drive/MyDrive/unet_images/new/mask_resize'"
      ],
      "metadata": {
        "id": "NTwzOUBz-GG4"
      },
      "execution_count": null,
      "outputs": []
    },
    {
      "cell_type": "code",
      "source": [
        "# SIZE = 224\n",
        "num_images = 100"
      ],
      "metadata": {
        "id": "S72QhYfR-9gh"
      },
      "execution_count": null,
      "outputs": []
    },
    {
      "cell_type": "code",
      "source": [
        "image_names = glob.glob(\"/content/drive/MyDrive/unet_images/new/image_resize/*.png\")\n",
        "print(image_names)"
      ],
      "metadata": {
        "id": "cL6ZqXep-hWl",
        "colab": {
          "base_uri": "https://localhost:8080/"
        },
        "outputId": "e8ed90e6-63bf-4710-b722-46fdb6a20d78"
      },
      "execution_count": null,
      "outputs": [
        {
          "output_type": "stream",
          "name": "stdout",
          "text": [
            "['/content/drive/MyDrive/unet_images/new/image_resize/IR_0875.png', '/content/drive/MyDrive/unet_images/new/image_resize/IR_4968.png', '/content/drive/MyDrive/unet_images/new/image_resize/IR_0860.png', '/content/drive/MyDrive/unet_images/new/image_resize/IR_2904.png', '/content/drive/MyDrive/unet_images/new/image_resize/IR_7455.png', '/content/drive/MyDrive/unet_images/new/image_resize/IR_5557.png', '/content/drive/MyDrive/unet_images/new/image_resize/IR_3416.png', '/content/drive/MyDrive/unet_images/new/image_resize/IR_0861.png', '/content/drive/MyDrive/unet_images/new/image_resize/IR_7446.png', '/content/drive/MyDrive/unet_images/new/image_resize/IR_3748.png', '/content/drive/MyDrive/unet_images/new/image_resize/IR_0990.png', '/content/drive/MyDrive/unet_images/new/image_resize/IR_3630.png', '/content/drive/MyDrive/unet_images/new/image_resize/IR_5614.png', '/content/drive/MyDrive/unet_images/new/image_resize/IR_1026.png', '/content/drive/MyDrive/unet_images/new/image_resize/IR_5317.png', '/content/drive/MyDrive/unet_images/new/image_resize/IR_3756.png', '/content/drive/MyDrive/unet_images/new/image_resize/IR_0965.png', '/content/drive/MyDrive/unet_images/new/image_resize/IR_7479.png', '/content/drive/MyDrive/unet_images/new/image_resize/IR_1290.png', '/content/drive/MyDrive/unet_images/new/image_resize/IR_0141.png', '/content/drive/MyDrive/unet_images/new/image_resize/IR_3420.png', '/content/drive/MyDrive/unet_images/new/image_resize/IR_5511.png', '/content/drive/MyDrive/unet_images/new/image_resize/IR_5088.png', '/content/drive/MyDrive/unet_images/new/image_resize/IR_0414.png', '/content/drive/MyDrive/unet_images/new/image_resize/IR_5349.png', '/content/drive/MyDrive/unet_images/new/image_resize/IR_4094.png', '/content/drive/MyDrive/unet_images/new/image_resize/IR_3839.png', '/content/drive/MyDrive/unet_images/new/image_resize/IR_5077.png', '/content/drive/MyDrive/unet_images/new/image_resize/IR_5656.png', '/content/drive/MyDrive/unet_images/new/image_resize/IR_0756.png', '/content/drive/MyDrive/unet_images/new/image_resize/IR_2944.png', '/content/drive/MyDrive/unet_images/new/image_resize/IR_0729.png', '/content/drive/MyDrive/unet_images/new/image_resize/IR_3940.png', '/content/drive/MyDrive/unet_images/new/image_resize/IR_5297.png', '/content/drive/MyDrive/unet_images/new/image_resize/IR_6010.png', '/content/drive/MyDrive/unet_images/new/image_resize/IR_1366.png', '/content/drive/MyDrive/unet_images/new/image_resize/IR_3983.png', '/content/drive/MyDrive/unet_images/new/image_resize/IR_5068.png', '/content/drive/MyDrive/unet_images/new/image_resize/IR_3635.png', '/content/drive/MyDrive/unet_images/new/image_resize/IR_2961.png', '/content/drive/MyDrive/unet_images/new/image_resize/IR_4974.png', '/content/drive/MyDrive/unet_images/new/image_resize/IR_0737.png', '/content/drive/MyDrive/unet_images/new/image_resize/IR_8199.png', '/content/drive/MyDrive/unet_images/new/image_resize/IR_2899.png', '/content/drive/MyDrive/unet_images/new/image_resize/IR_3946.png', '/content/drive/MyDrive/unet_images/new/image_resize/IR_8236.png', '/content/drive/MyDrive/unet_images/new/image_resize/IR_8317.png', '/content/drive/MyDrive/unet_images/new/image_resize/IR_0706.png', '/content/drive/MyDrive/unet_images/new/image_resize/IR_5763.png', '/content/drive/MyDrive/unet_images/new/image_resize/IR_0819.png', '/content/drive/MyDrive/unet_images/new/image_resize/IR_3977.png', '/content/drive/MyDrive/unet_images/new/image_resize/IR_5548.png', '/content/drive/MyDrive/unet_images/new/image_resize/IR_8296.png', '/content/drive/MyDrive/unet_images/new/image_resize/IR_5506.png', '/content/drive/MyDrive/unet_images/new/image_resize/IR_2841.png', '/content/drive/MyDrive/unet_images/new/image_resize/IR_3782.png', '/content/drive/MyDrive/unet_images/new/image_resize/IR_4978.png', '/content/drive/MyDrive/unet_images/new/image_resize/IR_5178.png', '/content/drive/MyDrive/unet_images/new/image_resize/IR_1336.png', '/content/drive/MyDrive/unet_images/new/image_resize/IR_5358.png', '/content/drive/MyDrive/unet_images/new/image_resize/IR_4136.png', '/content/drive/MyDrive/unet_images/new/image_resize/IR_5531.png', '/content/drive/MyDrive/unet_images/new/image_resize/IR_1047.png', '/content/drive/MyDrive/unet_images/new/image_resize/IR_5365.png', '/content/drive/MyDrive/unet_images/new/image_resize/IR_4141.png', '/content/drive/MyDrive/unet_images/new/image_resize/IR_4125.png', '/content/drive/MyDrive/unet_images/new/image_resize/IR_3109.png', '/content/drive/MyDrive/unet_images/new/image_resize/IR_3437.png', '/content/drive/MyDrive/unet_images/new/image_resize/IR_3739.png', '/content/drive/MyDrive/unet_images/new/image_resize/IR_6084.png', '/content/drive/MyDrive/unet_images/new/image_resize/IR_2952.png', '/content/drive/MyDrive/unet_images/new/image_resize/IR_3105.png', '/content/drive/MyDrive/unet_images/new/image_resize/IR_5462.png', '/content/drive/MyDrive/unet_images/new/image_resize/IR_6002.png', '/content/drive/MyDrive/unet_images/new/image_resize/IR_1016.png', '/content/drive/MyDrive/unet_images/new/image_resize/IR_0768.png', '/content/drive/MyDrive/unet_images/new/image_resize/IR_8153.png', '/content/drive/MyDrive/unet_images/new/image_resize/IR_2889.png', '/content/drive/MyDrive/unet_images/new/image_resize/IR_3614.png', '/content/drive/MyDrive/unet_images/new/image_resize/IR_3830.png', '/content/drive/MyDrive/unet_images/new/image_resize/IR_3730.png', '/content/drive/MyDrive/unet_images/new/image_resize/IR_3113.png', '/content/drive/MyDrive/unet_images/new/image_resize/IR_5378.png', '/content/drive/MyDrive/unet_images/new/image_resize/IR_5300.png', '/content/drive/MyDrive/unet_images/new/image_resize/IR_5563.png', '/content/drive/MyDrive/unet_images/new/image_resize/IR_1739.png', '/content/drive/MyDrive/unet_images/new/image_resize/IR_4957.png', '/content/drive/MyDrive/unet_images/new/image_resize/IR_3604.png', '/content/drive/MyDrive/unet_images/new/image_resize/IR_8143.png', '/content/drive/MyDrive/unet_images/new/image_resize/IR_8285.png', '/content/drive/MyDrive/unet_images/new/image_resize/IR_1627.png', '/content/drive/MyDrive/unet_images/new/image_resize/IR_1283.png', '/content/drive/MyDrive/unet_images/new/image_resize/IR_8304.png', '/content/drive/MyDrive/unet_images/new/image_resize/IR_2942.png', '/content/drive/MyDrive/unet_images/new/image_resize/IR_5986.png', '/content/drive/MyDrive/unet_images/new/image_resize/IR_3117.png', '/content/drive/MyDrive/unet_images/new/image_resize/IR_3727.png', '/content/drive/MyDrive/unet_images/new/image_resize/IR_0899.png', '/content/drive/MyDrive/unet_images/new/image_resize/IR_5479.png', '/content/drive/MyDrive/unet_images/new/image_resize/IR_1750.png']\n"
          ]
        }
      ]
    },
    {
      "cell_type": "code",
      "source": [
        "image_names.sort()\n",
        "print(image_names)"
      ],
      "metadata": {
        "id": "-jOdvRBD-zVy",
        "colab": {
          "base_uri": "https://localhost:8080/"
        },
        "outputId": "7bc42bb1-ac45-4235-e215-b5b98881d19b"
      },
      "execution_count": null,
      "outputs": [
        {
          "output_type": "stream",
          "name": "stdout",
          "text": [
            "['/content/drive/MyDrive/unet_images/new/image_resize/IR_0141.png', '/content/drive/MyDrive/unet_images/new/image_resize/IR_0414.png', '/content/drive/MyDrive/unet_images/new/image_resize/IR_0706.png', '/content/drive/MyDrive/unet_images/new/image_resize/IR_0729.png', '/content/drive/MyDrive/unet_images/new/image_resize/IR_0737.png', '/content/drive/MyDrive/unet_images/new/image_resize/IR_0756.png', '/content/drive/MyDrive/unet_images/new/image_resize/IR_0768.png', '/content/drive/MyDrive/unet_images/new/image_resize/IR_0819.png', '/content/drive/MyDrive/unet_images/new/image_resize/IR_0860.png', '/content/drive/MyDrive/unet_images/new/image_resize/IR_0861.png', '/content/drive/MyDrive/unet_images/new/image_resize/IR_0875.png', '/content/drive/MyDrive/unet_images/new/image_resize/IR_0899.png', '/content/drive/MyDrive/unet_images/new/image_resize/IR_0965.png', '/content/drive/MyDrive/unet_images/new/image_resize/IR_0990.png', '/content/drive/MyDrive/unet_images/new/image_resize/IR_1016.png', '/content/drive/MyDrive/unet_images/new/image_resize/IR_1026.png', '/content/drive/MyDrive/unet_images/new/image_resize/IR_1047.png', '/content/drive/MyDrive/unet_images/new/image_resize/IR_1283.png', '/content/drive/MyDrive/unet_images/new/image_resize/IR_1290.png', '/content/drive/MyDrive/unet_images/new/image_resize/IR_1336.png', '/content/drive/MyDrive/unet_images/new/image_resize/IR_1366.png', '/content/drive/MyDrive/unet_images/new/image_resize/IR_1627.png', '/content/drive/MyDrive/unet_images/new/image_resize/IR_1739.png', '/content/drive/MyDrive/unet_images/new/image_resize/IR_1750.png', '/content/drive/MyDrive/unet_images/new/image_resize/IR_2841.png', '/content/drive/MyDrive/unet_images/new/image_resize/IR_2889.png', '/content/drive/MyDrive/unet_images/new/image_resize/IR_2899.png', '/content/drive/MyDrive/unet_images/new/image_resize/IR_2904.png', '/content/drive/MyDrive/unet_images/new/image_resize/IR_2942.png', '/content/drive/MyDrive/unet_images/new/image_resize/IR_2944.png', '/content/drive/MyDrive/unet_images/new/image_resize/IR_2952.png', '/content/drive/MyDrive/unet_images/new/image_resize/IR_2961.png', '/content/drive/MyDrive/unet_images/new/image_resize/IR_3105.png', '/content/drive/MyDrive/unet_images/new/image_resize/IR_3109.png', '/content/drive/MyDrive/unet_images/new/image_resize/IR_3113.png', '/content/drive/MyDrive/unet_images/new/image_resize/IR_3117.png', '/content/drive/MyDrive/unet_images/new/image_resize/IR_3416.png', '/content/drive/MyDrive/unet_images/new/image_resize/IR_3420.png', '/content/drive/MyDrive/unet_images/new/image_resize/IR_3437.png', '/content/drive/MyDrive/unet_images/new/image_resize/IR_3604.png', '/content/drive/MyDrive/unet_images/new/image_resize/IR_3614.png', '/content/drive/MyDrive/unet_images/new/image_resize/IR_3630.png', '/content/drive/MyDrive/unet_images/new/image_resize/IR_3635.png', '/content/drive/MyDrive/unet_images/new/image_resize/IR_3727.png', '/content/drive/MyDrive/unet_images/new/image_resize/IR_3730.png', '/content/drive/MyDrive/unet_images/new/image_resize/IR_3739.png', '/content/drive/MyDrive/unet_images/new/image_resize/IR_3748.png', '/content/drive/MyDrive/unet_images/new/image_resize/IR_3756.png', '/content/drive/MyDrive/unet_images/new/image_resize/IR_3782.png', '/content/drive/MyDrive/unet_images/new/image_resize/IR_3830.png', '/content/drive/MyDrive/unet_images/new/image_resize/IR_3839.png', '/content/drive/MyDrive/unet_images/new/image_resize/IR_3940.png', '/content/drive/MyDrive/unet_images/new/image_resize/IR_3946.png', '/content/drive/MyDrive/unet_images/new/image_resize/IR_3977.png', '/content/drive/MyDrive/unet_images/new/image_resize/IR_3983.png', '/content/drive/MyDrive/unet_images/new/image_resize/IR_4094.png', '/content/drive/MyDrive/unet_images/new/image_resize/IR_4125.png', '/content/drive/MyDrive/unet_images/new/image_resize/IR_4136.png', '/content/drive/MyDrive/unet_images/new/image_resize/IR_4141.png', '/content/drive/MyDrive/unet_images/new/image_resize/IR_4957.png', '/content/drive/MyDrive/unet_images/new/image_resize/IR_4968.png', '/content/drive/MyDrive/unet_images/new/image_resize/IR_4974.png', '/content/drive/MyDrive/unet_images/new/image_resize/IR_4978.png', '/content/drive/MyDrive/unet_images/new/image_resize/IR_5068.png', '/content/drive/MyDrive/unet_images/new/image_resize/IR_5077.png', '/content/drive/MyDrive/unet_images/new/image_resize/IR_5088.png', '/content/drive/MyDrive/unet_images/new/image_resize/IR_5178.png', '/content/drive/MyDrive/unet_images/new/image_resize/IR_5297.png', '/content/drive/MyDrive/unet_images/new/image_resize/IR_5300.png', '/content/drive/MyDrive/unet_images/new/image_resize/IR_5317.png', '/content/drive/MyDrive/unet_images/new/image_resize/IR_5349.png', '/content/drive/MyDrive/unet_images/new/image_resize/IR_5358.png', '/content/drive/MyDrive/unet_images/new/image_resize/IR_5365.png', '/content/drive/MyDrive/unet_images/new/image_resize/IR_5378.png', '/content/drive/MyDrive/unet_images/new/image_resize/IR_5462.png', '/content/drive/MyDrive/unet_images/new/image_resize/IR_5479.png', '/content/drive/MyDrive/unet_images/new/image_resize/IR_5506.png', '/content/drive/MyDrive/unet_images/new/image_resize/IR_5511.png', '/content/drive/MyDrive/unet_images/new/image_resize/IR_5531.png', '/content/drive/MyDrive/unet_images/new/image_resize/IR_5548.png', '/content/drive/MyDrive/unet_images/new/image_resize/IR_5557.png', '/content/drive/MyDrive/unet_images/new/image_resize/IR_5563.png', '/content/drive/MyDrive/unet_images/new/image_resize/IR_5614.png', '/content/drive/MyDrive/unet_images/new/image_resize/IR_5656.png', '/content/drive/MyDrive/unet_images/new/image_resize/IR_5763.png', '/content/drive/MyDrive/unet_images/new/image_resize/IR_5986.png', '/content/drive/MyDrive/unet_images/new/image_resize/IR_6002.png', '/content/drive/MyDrive/unet_images/new/image_resize/IR_6010.png', '/content/drive/MyDrive/unet_images/new/image_resize/IR_6084.png', '/content/drive/MyDrive/unet_images/new/image_resize/IR_7446.png', '/content/drive/MyDrive/unet_images/new/image_resize/IR_7455.png', '/content/drive/MyDrive/unet_images/new/image_resize/IR_7479.png', '/content/drive/MyDrive/unet_images/new/image_resize/IR_8143.png', '/content/drive/MyDrive/unet_images/new/image_resize/IR_8153.png', '/content/drive/MyDrive/unet_images/new/image_resize/IR_8199.png', '/content/drive/MyDrive/unet_images/new/image_resize/IR_8236.png', '/content/drive/MyDrive/unet_images/new/image_resize/IR_8285.png', '/content/drive/MyDrive/unet_images/new/image_resize/IR_8296.png', '/content/drive/MyDrive/unet_images/new/image_resize/IR_8304.png', '/content/drive/MyDrive/unet_images/new/image_resize/IR_8317.png']\n"
          ]
        }
      ]
    },
    {
      "cell_type": "code",
      "source": [
        "image_names_subset = image_names[0:num_images]"
      ],
      "metadata": {
        "id": "0qfOHfy2-0DM"
      },
      "execution_count": null,
      "outputs": []
    },
    {
      "cell_type": "code",
      "source": [
        "print(image_names_subset)"
      ],
      "metadata": {
        "id": "hIip4iSVBaY0",
        "colab": {
          "base_uri": "https://localhost:8080/"
        },
        "outputId": "1a8b0deb-6f3d-4192-f3c1-248120f4aa77"
      },
      "execution_count": null,
      "outputs": [
        {
          "output_type": "stream",
          "name": "stdout",
          "text": [
            "['/content/drive/MyDrive/unet_images/new/image_resize/IR_0141.png', '/content/drive/MyDrive/unet_images/new/image_resize/IR_0414.png', '/content/drive/MyDrive/unet_images/new/image_resize/IR_0706.png', '/content/drive/MyDrive/unet_images/new/image_resize/IR_0729.png', '/content/drive/MyDrive/unet_images/new/image_resize/IR_0737.png', '/content/drive/MyDrive/unet_images/new/image_resize/IR_0756.png', '/content/drive/MyDrive/unet_images/new/image_resize/IR_0768.png', '/content/drive/MyDrive/unet_images/new/image_resize/IR_0819.png', '/content/drive/MyDrive/unet_images/new/image_resize/IR_0860.png', '/content/drive/MyDrive/unet_images/new/image_resize/IR_0861.png', '/content/drive/MyDrive/unet_images/new/image_resize/IR_0875.png', '/content/drive/MyDrive/unet_images/new/image_resize/IR_0899.png', '/content/drive/MyDrive/unet_images/new/image_resize/IR_0965.png', '/content/drive/MyDrive/unet_images/new/image_resize/IR_0990.png', '/content/drive/MyDrive/unet_images/new/image_resize/IR_1016.png', '/content/drive/MyDrive/unet_images/new/image_resize/IR_1026.png', '/content/drive/MyDrive/unet_images/new/image_resize/IR_1047.png', '/content/drive/MyDrive/unet_images/new/image_resize/IR_1283.png', '/content/drive/MyDrive/unet_images/new/image_resize/IR_1290.png', '/content/drive/MyDrive/unet_images/new/image_resize/IR_1336.png', '/content/drive/MyDrive/unet_images/new/image_resize/IR_1366.png', '/content/drive/MyDrive/unet_images/new/image_resize/IR_1627.png', '/content/drive/MyDrive/unet_images/new/image_resize/IR_1739.png', '/content/drive/MyDrive/unet_images/new/image_resize/IR_1750.png', '/content/drive/MyDrive/unet_images/new/image_resize/IR_2841.png', '/content/drive/MyDrive/unet_images/new/image_resize/IR_2889.png', '/content/drive/MyDrive/unet_images/new/image_resize/IR_2899.png', '/content/drive/MyDrive/unet_images/new/image_resize/IR_2904.png', '/content/drive/MyDrive/unet_images/new/image_resize/IR_2942.png', '/content/drive/MyDrive/unet_images/new/image_resize/IR_2944.png', '/content/drive/MyDrive/unet_images/new/image_resize/IR_2952.png', '/content/drive/MyDrive/unet_images/new/image_resize/IR_2961.png', '/content/drive/MyDrive/unet_images/new/image_resize/IR_3105.png', '/content/drive/MyDrive/unet_images/new/image_resize/IR_3109.png', '/content/drive/MyDrive/unet_images/new/image_resize/IR_3113.png', '/content/drive/MyDrive/unet_images/new/image_resize/IR_3117.png', '/content/drive/MyDrive/unet_images/new/image_resize/IR_3416.png', '/content/drive/MyDrive/unet_images/new/image_resize/IR_3420.png', '/content/drive/MyDrive/unet_images/new/image_resize/IR_3437.png', '/content/drive/MyDrive/unet_images/new/image_resize/IR_3604.png', '/content/drive/MyDrive/unet_images/new/image_resize/IR_3614.png', '/content/drive/MyDrive/unet_images/new/image_resize/IR_3630.png', '/content/drive/MyDrive/unet_images/new/image_resize/IR_3635.png', '/content/drive/MyDrive/unet_images/new/image_resize/IR_3727.png', '/content/drive/MyDrive/unet_images/new/image_resize/IR_3730.png', '/content/drive/MyDrive/unet_images/new/image_resize/IR_3739.png', '/content/drive/MyDrive/unet_images/new/image_resize/IR_3748.png', '/content/drive/MyDrive/unet_images/new/image_resize/IR_3756.png', '/content/drive/MyDrive/unet_images/new/image_resize/IR_3782.png', '/content/drive/MyDrive/unet_images/new/image_resize/IR_3830.png', '/content/drive/MyDrive/unet_images/new/image_resize/IR_3839.png', '/content/drive/MyDrive/unet_images/new/image_resize/IR_3940.png', '/content/drive/MyDrive/unet_images/new/image_resize/IR_3946.png', '/content/drive/MyDrive/unet_images/new/image_resize/IR_3977.png', '/content/drive/MyDrive/unet_images/new/image_resize/IR_3983.png', '/content/drive/MyDrive/unet_images/new/image_resize/IR_4094.png', '/content/drive/MyDrive/unet_images/new/image_resize/IR_4125.png', '/content/drive/MyDrive/unet_images/new/image_resize/IR_4136.png', '/content/drive/MyDrive/unet_images/new/image_resize/IR_4141.png', '/content/drive/MyDrive/unet_images/new/image_resize/IR_4957.png', '/content/drive/MyDrive/unet_images/new/image_resize/IR_4968.png', '/content/drive/MyDrive/unet_images/new/image_resize/IR_4974.png', '/content/drive/MyDrive/unet_images/new/image_resize/IR_4978.png', '/content/drive/MyDrive/unet_images/new/image_resize/IR_5068.png', '/content/drive/MyDrive/unet_images/new/image_resize/IR_5077.png', '/content/drive/MyDrive/unet_images/new/image_resize/IR_5088.png', '/content/drive/MyDrive/unet_images/new/image_resize/IR_5178.png', '/content/drive/MyDrive/unet_images/new/image_resize/IR_5297.png', '/content/drive/MyDrive/unet_images/new/image_resize/IR_5300.png', '/content/drive/MyDrive/unet_images/new/image_resize/IR_5317.png', '/content/drive/MyDrive/unet_images/new/image_resize/IR_5349.png', '/content/drive/MyDrive/unet_images/new/image_resize/IR_5358.png', '/content/drive/MyDrive/unet_images/new/image_resize/IR_5365.png', '/content/drive/MyDrive/unet_images/new/image_resize/IR_5378.png', '/content/drive/MyDrive/unet_images/new/image_resize/IR_5462.png', '/content/drive/MyDrive/unet_images/new/image_resize/IR_5479.png', '/content/drive/MyDrive/unet_images/new/image_resize/IR_5506.png', '/content/drive/MyDrive/unet_images/new/image_resize/IR_5511.png', '/content/drive/MyDrive/unet_images/new/image_resize/IR_5531.png', '/content/drive/MyDrive/unet_images/new/image_resize/IR_5548.png', '/content/drive/MyDrive/unet_images/new/image_resize/IR_5557.png', '/content/drive/MyDrive/unet_images/new/image_resize/IR_5563.png', '/content/drive/MyDrive/unet_images/new/image_resize/IR_5614.png', '/content/drive/MyDrive/unet_images/new/image_resize/IR_5656.png', '/content/drive/MyDrive/unet_images/new/image_resize/IR_5763.png', '/content/drive/MyDrive/unet_images/new/image_resize/IR_5986.png', '/content/drive/MyDrive/unet_images/new/image_resize/IR_6002.png', '/content/drive/MyDrive/unet_images/new/image_resize/IR_6010.png', '/content/drive/MyDrive/unet_images/new/image_resize/IR_6084.png', '/content/drive/MyDrive/unet_images/new/image_resize/IR_7446.png', '/content/drive/MyDrive/unet_images/new/image_resize/IR_7455.png', '/content/drive/MyDrive/unet_images/new/image_resize/IR_7479.png', '/content/drive/MyDrive/unet_images/new/image_resize/IR_8143.png', '/content/drive/MyDrive/unet_images/new/image_resize/IR_8153.png', '/content/drive/MyDrive/unet_images/new/image_resize/IR_8199.png', '/content/drive/MyDrive/unet_images/new/image_resize/IR_8236.png', '/content/drive/MyDrive/unet_images/new/image_resize/IR_8285.png', '/content/drive/MyDrive/unet_images/new/image_resize/IR_8296.png', '/content/drive/MyDrive/unet_images/new/image_resize/IR_8304.png', '/content/drive/MyDrive/unet_images/new/image_resize/IR_8317.png']\n"
          ]
        }
      ]
    },
    {
      "cell_type": "code",
      "source": [
        "images = [cv2.imread(img, 0) for img in image_names_subset]"
      ],
      "metadata": {
        "id": "yMMubdgG-4BI"
      },
      "execution_count": null,
      "outputs": []
    },
    {
      "cell_type": "code",
      "source": [
        "image_dataset = np.array(images)\n",
        "image_dataset = np.expand_dims(image_dataset, axis = 3)"
      ],
      "metadata": {
        "id": "j1kkWXNc_FSl"
      },
      "execution_count": null,
      "outputs": []
    },
    {
      "cell_type": "code",
      "source": [
        "# mask images\n",
        "mask_names = glob.glob(\"/content/drive/MyDrive/unet_images/new/mask_resize/*.png\")\n",
        "mask_names.sort()\n",
        "mask_names_subset = mask_names[0:num_images]\n",
        "masks = [cv2.imread(mask, 0) for mask in mask_names_subset]\n",
        "mask_dataset = np.array(masks)\n",
        "mask_dataset = np.expand_dims(mask_dataset, axis = 3)\n"
      ],
      "metadata": {
        "id": "mjQDQ3qx_NXL"
      },
      "execution_count": null,
      "outputs": []
    },
    {
      "cell_type": "code",
      "source": [
        "print(mask_names_subset)"
      ],
      "metadata": {
        "id": "CjI4u1nUCsSw",
        "colab": {
          "base_uri": "https://localhost:8080/"
        },
        "outputId": "5d3c61c0-6efa-4fa8-cd0b-d59cc18e45a9"
      },
      "execution_count": null,
      "outputs": [
        {
          "output_type": "stream",
          "name": "stdout",
          "text": [
            "['/content/drive/MyDrive/unet_images/new/mask_resize/IR_0141-BIN.png', '/content/drive/MyDrive/unet_images/new/mask_resize/IR_0414-BIN.png', '/content/drive/MyDrive/unet_images/new/mask_resize/IR_0706-BIN.png', '/content/drive/MyDrive/unet_images/new/mask_resize/IR_0729-BIN.png', '/content/drive/MyDrive/unet_images/new/mask_resize/IR_0737-BIN.png', '/content/drive/MyDrive/unet_images/new/mask_resize/IR_0756-BIN.png', '/content/drive/MyDrive/unet_images/new/mask_resize/IR_0768-BIN.png', '/content/drive/MyDrive/unet_images/new/mask_resize/IR_0819-BIN.png', '/content/drive/MyDrive/unet_images/new/mask_resize/IR_0860-BIN.png', '/content/drive/MyDrive/unet_images/new/mask_resize/IR_0861-BIN.png', '/content/drive/MyDrive/unet_images/new/mask_resize/IR_0875-BIN.png', '/content/drive/MyDrive/unet_images/new/mask_resize/IR_0899-BIN.png', '/content/drive/MyDrive/unet_images/new/mask_resize/IR_0965-BIN.png', '/content/drive/MyDrive/unet_images/new/mask_resize/IR_0990-BIN.png', '/content/drive/MyDrive/unet_images/new/mask_resize/IR_1016-BIN.png', '/content/drive/MyDrive/unet_images/new/mask_resize/IR_1026-BIN.png', '/content/drive/MyDrive/unet_images/new/mask_resize/IR_1047-BIN.png', '/content/drive/MyDrive/unet_images/new/mask_resize/IR_1283-BIN.png', '/content/drive/MyDrive/unet_images/new/mask_resize/IR_1290-BIN.png', '/content/drive/MyDrive/unet_images/new/mask_resize/IR_1336-BIN.png', '/content/drive/MyDrive/unet_images/new/mask_resize/IR_1366-BIN.png', '/content/drive/MyDrive/unet_images/new/mask_resize/IR_1627-BIN.png', '/content/drive/MyDrive/unet_images/new/mask_resize/IR_1739-BIN.png', '/content/drive/MyDrive/unet_images/new/mask_resize/IR_1750-BIN.png', '/content/drive/MyDrive/unet_images/new/mask_resize/IR_2841-BIN.png', '/content/drive/MyDrive/unet_images/new/mask_resize/IR_2889-BIN.png', '/content/drive/MyDrive/unet_images/new/mask_resize/IR_2899-BIN.png', '/content/drive/MyDrive/unet_images/new/mask_resize/IR_2904-BIN.png', '/content/drive/MyDrive/unet_images/new/mask_resize/IR_2942-BIN.png', '/content/drive/MyDrive/unet_images/new/mask_resize/IR_2944-BIN.png', '/content/drive/MyDrive/unet_images/new/mask_resize/IR_2952-BIN.png', '/content/drive/MyDrive/unet_images/new/mask_resize/IR_2961-BIN.png', '/content/drive/MyDrive/unet_images/new/mask_resize/IR_3105-BIN.png', '/content/drive/MyDrive/unet_images/new/mask_resize/IR_3109-BIN.png', '/content/drive/MyDrive/unet_images/new/mask_resize/IR_3113-BIN.png', '/content/drive/MyDrive/unet_images/new/mask_resize/IR_3117-BIN.png', '/content/drive/MyDrive/unet_images/new/mask_resize/IR_3416-BIN.png', '/content/drive/MyDrive/unet_images/new/mask_resize/IR_3420-BIN.png', '/content/drive/MyDrive/unet_images/new/mask_resize/IR_3437-BIN.png', '/content/drive/MyDrive/unet_images/new/mask_resize/IR_3604-BIN.png', '/content/drive/MyDrive/unet_images/new/mask_resize/IR_3614-BIN.png', '/content/drive/MyDrive/unet_images/new/mask_resize/IR_3630-BIN.png', '/content/drive/MyDrive/unet_images/new/mask_resize/IR_3635-BIN.png', '/content/drive/MyDrive/unet_images/new/mask_resize/IR_3727-BIN.png', '/content/drive/MyDrive/unet_images/new/mask_resize/IR_3730-BIN.png', '/content/drive/MyDrive/unet_images/new/mask_resize/IR_3739-BIN.png', '/content/drive/MyDrive/unet_images/new/mask_resize/IR_3748-BIN.png', '/content/drive/MyDrive/unet_images/new/mask_resize/IR_3756-BIN.png', '/content/drive/MyDrive/unet_images/new/mask_resize/IR_3782-BIN.png', '/content/drive/MyDrive/unet_images/new/mask_resize/IR_3830-BIN.png', '/content/drive/MyDrive/unet_images/new/mask_resize/IR_3839-BIN.png', '/content/drive/MyDrive/unet_images/new/mask_resize/IR_3940-BIN.png', '/content/drive/MyDrive/unet_images/new/mask_resize/IR_3946-BIN.png', '/content/drive/MyDrive/unet_images/new/mask_resize/IR_3977-BIN.png', '/content/drive/MyDrive/unet_images/new/mask_resize/IR_3983-BIN.png', '/content/drive/MyDrive/unet_images/new/mask_resize/IR_4094-BIN.png', '/content/drive/MyDrive/unet_images/new/mask_resize/IR_4125-BIN.png', '/content/drive/MyDrive/unet_images/new/mask_resize/IR_4136-BIN.png', '/content/drive/MyDrive/unet_images/new/mask_resize/IR_4141-BIN.png', '/content/drive/MyDrive/unet_images/new/mask_resize/IR_4957-BIN.png', '/content/drive/MyDrive/unet_images/new/mask_resize/IR_4968-BIN.png', '/content/drive/MyDrive/unet_images/new/mask_resize/IR_4974-BIN.png', '/content/drive/MyDrive/unet_images/new/mask_resize/IR_4978-BIN.png', '/content/drive/MyDrive/unet_images/new/mask_resize/IR_5068-BIN.png', '/content/drive/MyDrive/unet_images/new/mask_resize/IR_5077-BIN.png', '/content/drive/MyDrive/unet_images/new/mask_resize/IR_5088-BIN.png', '/content/drive/MyDrive/unet_images/new/mask_resize/IR_5178-BIN.png', '/content/drive/MyDrive/unet_images/new/mask_resize/IR_5297-BIN.png', '/content/drive/MyDrive/unet_images/new/mask_resize/IR_5300-BIN.png', '/content/drive/MyDrive/unet_images/new/mask_resize/IR_5317-BIN.png', '/content/drive/MyDrive/unet_images/new/mask_resize/IR_5349-BIN.png', '/content/drive/MyDrive/unet_images/new/mask_resize/IR_5358-BIN.png', '/content/drive/MyDrive/unet_images/new/mask_resize/IR_5365-BIN.png', '/content/drive/MyDrive/unet_images/new/mask_resize/IR_5378-BIN.png', '/content/drive/MyDrive/unet_images/new/mask_resize/IR_5462-BIN.png', '/content/drive/MyDrive/unet_images/new/mask_resize/IR_5479-BIN.png', '/content/drive/MyDrive/unet_images/new/mask_resize/IR_5506-BIN.png', '/content/drive/MyDrive/unet_images/new/mask_resize/IR_5511-BIN.png', '/content/drive/MyDrive/unet_images/new/mask_resize/IR_5531-BIN.png', '/content/drive/MyDrive/unet_images/new/mask_resize/IR_5548-BIN.png', '/content/drive/MyDrive/unet_images/new/mask_resize/IR_5557-BIN.png', '/content/drive/MyDrive/unet_images/new/mask_resize/IR_5563-BIN.png', '/content/drive/MyDrive/unet_images/new/mask_resize/IR_5614-BIN.png', '/content/drive/MyDrive/unet_images/new/mask_resize/IR_5656-BIN.png', '/content/drive/MyDrive/unet_images/new/mask_resize/IR_5763-BIN.png', '/content/drive/MyDrive/unet_images/new/mask_resize/IR_5986-BIN.png', '/content/drive/MyDrive/unet_images/new/mask_resize/IR_6002-BIN.png', '/content/drive/MyDrive/unet_images/new/mask_resize/IR_6010-BIN.png', '/content/drive/MyDrive/unet_images/new/mask_resize/IR_6084-BIN.png', '/content/drive/MyDrive/unet_images/new/mask_resize/IR_7446-BIN.png', '/content/drive/MyDrive/unet_images/new/mask_resize/IR_7455-BIN.png', '/content/drive/MyDrive/unet_images/new/mask_resize/IR_7479-BIN.png', '/content/drive/MyDrive/unet_images/new/mask_resize/IR_8143-BIN.png', '/content/drive/MyDrive/unet_images/new/mask_resize/IR_8153-BIN.png', '/content/drive/MyDrive/unet_images/new/mask_resize/IR_8199-BIN.png', '/content/drive/MyDrive/unet_images/new/mask_resize/IR_8236-BIN.png', '/content/drive/MyDrive/unet_images/new/mask_resize/IR_8285-BIN.png', '/content/drive/MyDrive/unet_images/new/mask_resize/IR_8296-BIN.png', '/content/drive/MyDrive/unet_images/new/mask_resize/IR_8304-BIN.png', '/content/drive/MyDrive/unet_images/new/mask_resize/IR_8317-BIN.png']\n"
          ]
        }
      ]
    },
    {
      "cell_type": "code",
      "source": [
        "print(\"Image data shape is: \", image_dataset.shape)\n",
        "print(\"Mask data shape is: \", mask_dataset.shape)\n",
        "print(\"Max pixel value in image is: \", image_dataset.max())\n",
        "print(\"Labels in the mask are : \", np.unique(mask_dataset))"
      ],
      "metadata": {
        "id": "3093Nekh_RU-",
        "colab": {
          "base_uri": "https://localhost:8080/"
        },
        "outputId": "65b6161e-0a93-4dcf-ca7b-5a9f059499ad"
      },
      "execution_count": null,
      "outputs": [
        {
          "output_type": "stream",
          "name": "stdout",
          "text": [
            "Image data shape is:  (100, 224, 224, 1)\n",
            "Mask data shape is:  (100, 224, 224, 1)\n",
            "Max pixel value in image is:  255\n",
            "Labels in the mask are :  [  0 255]\n"
          ]
        }
      ]
    },
    {
      "cell_type": "code",
      "source": [
        "#Normalize images\n",
        "image_dataset = image_dataset /255.  #Can also normalize or scale using MinMax scaler\n",
        "#Do not normalize masks, just rescale to 0 to 1.\n",
        "mask_dataset = mask_dataset /255.  #PIxel values will be 0 or 1"
      ],
      "metadata": {
        "id": "dZwEQYh6_hvh"
      },
      "execution_count": null,
      "outputs": []
    },
    {
      "cell_type": "code",
      "source": [
        "print(\"Max pixel value in image is: \", image_dataset.max())\n",
        "print(\"Labels in the mask are : \", np.unique(mask_dataset))"
      ],
      "metadata": {
        "id": "i0_3GoTS_xBT",
        "colab": {
          "base_uri": "https://localhost:8080/"
        },
        "outputId": "b27b9ba8-a996-4a29-cc0b-cd1baeca4a3c"
      },
      "execution_count": null,
      "outputs": [
        {
          "output_type": "stream",
          "name": "stdout",
          "text": [
            "Max pixel value in image is:  1.0\n",
            "Labels in the mask are :  [0. 1.]\n"
          ]
        }
      ]
    },
    {
      "cell_type": "code",
      "source": [
        "from sklearn.model_selection import train_test_split\n",
        "X_train, X_test, y_train, y_test = train_test_split(image_dataset, mask_dataset, test_size = 0.20, random_state = 42)\n"
      ],
      "metadata": {
        "id": "ObRyeAwP_l0Z"
      },
      "execution_count": null,
      "outputs": []
    },
    {
      "cell_type": "code",
      "source": [
        "\n",
        "import random\n",
        "\n",
        "image_number = random.randint(0, len(X_train)-1)\n",
        "plt.figure(figsize=(6, 6))\n",
        "plt.subplot(121)\n",
        "plt.imshow(X_train[image_number,:,:,0], cmap='gray')\n",
        "# Extract the filename from the path\n",
        "filename = os.path.basename(image_names_subset[image_number])\n",
        "plt.title(filename)\n",
        "\n",
        "plt.subplot(122)\n",
        "plt.imshow(y_train[image_number,:,:,0], cmap='gray')\n",
        "# Extract the filename from the path\n",
        "filename1 = os.path.basename(mask_names_subset[image_number])\n",
        "plt.title(filename1)\n",
        "plt.show()"
      ],
      "metadata": {
        "id": "ob62AAKz_pYS"
      },
      "execution_count": null,
      "outputs": []
    },
    {
      "cell_type": "code",
      "source": [
        "\n",
        "# # Building Unet by dividing encoder and decoder into blocks\n",
        "\n",
        "# from keras.models import Model\n",
        "# from keras.layers import Input, Conv2D, MaxPooling2D, UpSampling2D, concatenate, Conv2DTranspose, BatchNormalization, Dropout, Lambda\n",
        "# from keras.optimizers import Adam\n",
        "# from keras.layers import Activation, MaxPool2D, Concatenate\n",
        "\n",
        "\n",
        "# def conv_block(input, num_filters):\n",
        "#     x = Conv2D(num_filters, 3, padding=\"same\")(input)\n",
        "#     x = BatchNormalization()(x)   #Not in the original network.\n",
        "#     x = Activation(\"relu\")(x)\n",
        "\n",
        "#     x = Conv2D(num_filters, 3, padding=\"same\")(x)\n",
        "#     x = BatchNormalization()(x)  #Not in the original network\n",
        "#     x = Activation(\"relu\")(x)\n",
        "\n",
        "#     return x\n",
        "\n",
        "# #Encoder block: Conv block followed by maxpooling\n",
        "\n",
        "\n",
        "# def encoder_block(input, num_filters):\n",
        "#     x = conv_block(input, num_filters)\n",
        "#     p = MaxPool2D((2, 2))(x)\n",
        "#     return x, p\n",
        "\n",
        "# #Decoder block\n",
        "# #skip features gets input from encoder for concatenation\n",
        "\n",
        "# def decoder_block(input, skip_features, num_filters):\n",
        "#     x = Conv2DTranspose(num_filters, (2, 2), strides=2, padding=\"same\")(input)\n",
        "#     x = Concatenate()([x, skip_features])\n",
        "#     x = conv_block(x, num_filters)\n",
        "#     return x\n",
        "\n",
        "# #Build Unet using the blocks\n",
        "# def build_unet(input_shape, n_classes):\n",
        "#     inputs = Input(input_shape)\n",
        "\n",
        "#     s1, p1 = encoder_block(inputs, 64)\n",
        "#     s2, p2 = encoder_block(p1, 128)\n",
        "#     s3, p3 = encoder_block(p2, 256)\n",
        "#     s4, p4 = encoder_block(p3, 512)\n",
        "\n",
        "#     b1 = conv_block(p4, 1024) #Bridge\n",
        "\n",
        "#     d1 = decoder_block(b1, s4, 512)\n",
        "#     d2 = decoder_block(d1, s3, 256)\n",
        "#     d3 = decoder_block(d2, s2, 128)\n",
        "#     d4 = decoder_block(d3, s1, 64)\n",
        "\n",
        "#     if n_classes == 1:  #Binary\n",
        "#       activation = 'sigmoid'\n",
        "#     else:\n",
        "#       activation = 'softmax'\n",
        "\n",
        "#     outputs = Conv2D(n_classes, 1, padding=\"same\", activation=activation)(d4)  #Change the activation based on n_classes\n",
        "#     print(activation)\n",
        "\n",
        "#     model = Model(inputs, outputs, name=\"U-Net\")\n",
        "#     return model"
      ],
      "metadata": {
        "id": "WRb32qrY_1Co"
      },
      "execution_count": null,
      "outputs": []
    },
    {
      "cell_type": "code",
      "source": [
        "from keras.models import Model\n",
        "from keras.layers import Input, Conv2D, MaxPooling2D, UpSampling2D, concatenate, Conv2DTranspose, BatchNormalization, Dropout, Lambda\n",
        "\n",
        "################################################################\n",
        "def simple_unet_model(IMG_HEIGHT, IMG_WIDTH, IMG_CHANNELS):\n",
        "#Build the model\n",
        "    inputs = Input((IMG_HEIGHT, IMG_WIDTH, IMG_CHANNELS))\n",
        "    #s = Lambda(lambda x: x / 255)(inputs)   #No need for this if we normalize our inputs beforehand\n",
        "    s = inputs\n",
        "\n",
        "    #Contraction path\n",
        "    c1 = Conv2D(16, (3, 3), activation='relu', kernel_initializer='he_normal', padding='same')(s)\n",
        "    c1 = Dropout(0.1)(c1)\n",
        "    c1 = Conv2D(16, (3, 3), activation='relu', kernel_initializer='he_normal', padding='same')(c1)\n",
        "    p1 = MaxPooling2D((2, 2))(c1)\n",
        "\n",
        "    c2 = Conv2D(32, (3, 3), activation='relu', kernel_initializer='he_normal', padding='same')(p1)\n",
        "    c2 = Dropout(0.1)(c2)\n",
        "    c2 = Conv2D(32, (3, 3), activation='relu', kernel_initializer='he_normal', padding='same')(c2)\n",
        "    p2 = MaxPooling2D((2, 2))(c2)\n",
        "\n",
        "    c3 = Conv2D(64, (3, 3), activation='relu', kernel_initializer='he_normal', padding='same')(p2)\n",
        "    c3 = Dropout(0.2)(c3)\n",
        "    c3 = Conv2D(64, (3, 3), activation='relu', kernel_initializer='he_normal', padding='same')(c3)\n",
        "    p3 = MaxPooling2D((2, 2))(c3)\n",
        "\n",
        "    c4 = Conv2D(128, (3, 3), activation='relu', kernel_initializer='he_normal', padding='same')(p3)\n",
        "    c4 = Dropout(0.2)(c4)\n",
        "    c4 = Conv2D(128, (3, 3), activation='relu', kernel_initializer='he_normal', padding='same')(c4)\n",
        "    p4 = MaxPooling2D(pool_size=(2, 2))(c4)\n",
        "\n",
        "    c5 = Conv2D(256, (3, 3), activation='relu', kernel_initializer='he_normal', padding='same')(p4)\n",
        "    c5 = Dropout(0.3)(c5)\n",
        "    c5 = Conv2D(256, (3, 3), activation='relu', kernel_initializer='he_normal', padding='same')(c5)\n",
        "\n",
        "    #Expansive path\n",
        "    u6 = Conv2DTranspose(128, (2, 2), strides=(2, 2), padding='same')(c5)\n",
        "    u6 = concatenate([u6, c4])\n",
        "    c6 = Conv2D(128, (3, 3), activation='relu', kernel_initializer='he_normal', padding='same')(u6)\n",
        "    c6 = Dropout(0.2)(c6)\n",
        "    c6 = Conv2D(128, (3, 3), activation='relu', kernel_initializer='he_normal', padding='same')(c6)\n",
        "\n",
        "    u7 = Conv2DTranspose(64, (2, 2), strides=(2, 2), padding='same')(c6)\n",
        "    u7 = concatenate([u7, c3])\n",
        "    c7 = Conv2D(64, (3, 3), activation='relu', kernel_initializer='he_normal', padding='same')(u7)\n",
        "    c7 = Dropout(0.2)(c7)\n",
        "    c7 = Conv2D(64, (3, 3), activation='relu', kernel_initializer='he_normal', padding='same')(c7)\n",
        "\n",
        "    u8 = Conv2DTranspose(32, (2, 2), strides=(2, 2), padding='same')(c7)\n",
        "    u8 = concatenate([u8, c2])\n",
        "    c8 = Conv2D(32, (3, 3), activation='relu', kernel_initializer='he_normal', padding='same')(u8)\n",
        "    c8 = Dropout(0.1)(c8)\n",
        "    c8 = Conv2D(32, (3, 3), activation='relu', kernel_initializer='he_normal', padding='same')(c8)\n",
        "\n",
        "    u9 = Conv2DTranspose(16, (2, 2), strides=(2, 2), padding='same')(c8)\n",
        "    u9 = concatenate([u9, c1], axis=3)\n",
        "    c9 = Conv2D(16, (3, 3), activation='relu', kernel_initializer='he_normal', padding='same')(u9)\n",
        "    c9 = Dropout(0.1)(c9)\n",
        "    c9 = Conv2D(16, (3, 3), activation='relu', kernel_initializer='he_normal', padding='same')(c9)\n",
        "\n",
        "    outputs = Conv2D(1, (1, 1), activation='sigmoid')(c9)\n",
        "\n",
        "    model = Model(inputs=[inputs], outputs=[outputs])\n",
        "    # model.compile(optimizer='adam', loss='binary_crossentropy', metrics=['accuracy'])\n",
        "    # model.summary()\n",
        "\n",
        "    return model"
      ],
      "metadata": {
        "id": "qtIa0jrwj_OD"
      },
      "execution_count": null,
      "outputs": []
    },
    {
      "cell_type": "code",
      "source": [
        "\n",
        "IMG_HEIGHT = image_dataset.shape[1]\n",
        "IMG_WIDTH  = image_dataset.shape[2]\n",
        "IMG_CHANNELS = image_dataset.shape[3]\n",
        "\n",
        "# input_shape = (IMG_HEIGHT, IMG_WIDTH, IMG_CHANNELS)\n"
      ],
      "metadata": {
        "id": "FHAJ_lJE2IXq"
      },
      "execution_count": null,
      "outputs": []
    },
    {
      "cell_type": "code",
      "source": [
        "model = simple_unet_model(IMG_HEIGHT, IMG_WIDTH, IMG_CHANNELS)\n",
        "model.compile(optimizer=Adam(learning_rate = 1e-3), loss='binary_crossentropy', metrics=['accuracy'])\n",
        "model.summary()"
      ],
      "metadata": {
        "id": "a1koWM-E2UZ2",
        "colab": {
          "base_uri": "https://localhost:8080/"
        },
        "outputId": "457deea1-9456-4248-d6c4-d4cc58d91b38"
      },
      "execution_count": null,
      "outputs": [
        {
          "output_type": "stream",
          "name": "stdout",
          "text": [
            "Model: \"model_1\"\n",
            "__________________________________________________________________________________________________\n",
            " Layer (type)                Output Shape                 Param #   Connected to                  \n",
            "==================================================================================================\n",
            " input_2 (InputLayer)        [(None, 224, 224, 1)]        0         []                            \n",
            "                                                                                                  \n",
            " conv2d_19 (Conv2D)          (None, 224, 224, 16)         160       ['input_2[0][0]']             \n",
            "                                                                                                  \n",
            " dropout_9 (Dropout)         (None, 224, 224, 16)         0         ['conv2d_19[0][0]']           \n",
            "                                                                                                  \n",
            " conv2d_20 (Conv2D)          (None, 224, 224, 16)         2320      ['dropout_9[0][0]']           \n",
            "                                                                                                  \n",
            " max_pooling2d_4 (MaxPoolin  (None, 112, 112, 16)         0         ['conv2d_20[0][0]']           \n",
            " g2D)                                                                                             \n",
            "                                                                                                  \n",
            " conv2d_21 (Conv2D)          (None, 112, 112, 32)         4640      ['max_pooling2d_4[0][0]']     \n",
            "                                                                                                  \n",
            " dropout_10 (Dropout)        (None, 112, 112, 32)         0         ['conv2d_21[0][0]']           \n",
            "                                                                                                  \n",
            " conv2d_22 (Conv2D)          (None, 112, 112, 32)         9248      ['dropout_10[0][0]']          \n",
            "                                                                                                  \n",
            " max_pooling2d_5 (MaxPoolin  (None, 56, 56, 32)           0         ['conv2d_22[0][0]']           \n",
            " g2D)                                                                                             \n",
            "                                                                                                  \n",
            " conv2d_23 (Conv2D)          (None, 56, 56, 64)           18496     ['max_pooling2d_5[0][0]']     \n",
            "                                                                                                  \n",
            " dropout_11 (Dropout)        (None, 56, 56, 64)           0         ['conv2d_23[0][0]']           \n",
            "                                                                                                  \n",
            " conv2d_24 (Conv2D)          (None, 56, 56, 64)           36928     ['dropout_11[0][0]']          \n",
            "                                                                                                  \n",
            " max_pooling2d_6 (MaxPoolin  (None, 28, 28, 64)           0         ['conv2d_24[0][0]']           \n",
            " g2D)                                                                                             \n",
            "                                                                                                  \n",
            " conv2d_25 (Conv2D)          (None, 28, 28, 128)          73856     ['max_pooling2d_6[0][0]']     \n",
            "                                                                                                  \n",
            " dropout_12 (Dropout)        (None, 28, 28, 128)          0         ['conv2d_25[0][0]']           \n",
            "                                                                                                  \n",
            " conv2d_26 (Conv2D)          (None, 28, 28, 128)          147584    ['dropout_12[0][0]']          \n",
            "                                                                                                  \n",
            " max_pooling2d_7 (MaxPoolin  (None, 14, 14, 128)          0         ['conv2d_26[0][0]']           \n",
            " g2D)                                                                                             \n",
            "                                                                                                  \n",
            " conv2d_27 (Conv2D)          (None, 14, 14, 256)          295168    ['max_pooling2d_7[0][0]']     \n",
            "                                                                                                  \n",
            " dropout_13 (Dropout)        (None, 14, 14, 256)          0         ['conv2d_27[0][0]']           \n",
            "                                                                                                  \n",
            " conv2d_28 (Conv2D)          (None, 14, 14, 256)          590080    ['dropout_13[0][0]']          \n",
            "                                                                                                  \n",
            " conv2d_transpose_4 (Conv2D  (None, 28, 28, 128)          131200    ['conv2d_28[0][0]']           \n",
            " Transpose)                                                                                       \n",
            "                                                                                                  \n",
            " concatenate_4 (Concatenate  (None, 28, 28, 256)          0         ['conv2d_transpose_4[0][0]',  \n",
            " )                                                                   'conv2d_26[0][0]']           \n",
            "                                                                                                  \n",
            " conv2d_29 (Conv2D)          (None, 28, 28, 128)          295040    ['concatenate_4[0][0]']       \n",
            "                                                                                                  \n",
            " dropout_14 (Dropout)        (None, 28, 28, 128)          0         ['conv2d_29[0][0]']           \n",
            "                                                                                                  \n",
            " conv2d_30 (Conv2D)          (None, 28, 28, 128)          147584    ['dropout_14[0][0]']          \n",
            "                                                                                                  \n",
            " conv2d_transpose_5 (Conv2D  (None, 56, 56, 64)           32832     ['conv2d_30[0][0]']           \n",
            " Transpose)                                                                                       \n",
            "                                                                                                  \n",
            " concatenate_5 (Concatenate  (None, 56, 56, 128)          0         ['conv2d_transpose_5[0][0]',  \n",
            " )                                                                   'conv2d_24[0][0]']           \n",
            "                                                                                                  \n",
            " conv2d_31 (Conv2D)          (None, 56, 56, 64)           73792     ['concatenate_5[0][0]']       \n",
            "                                                                                                  \n",
            " dropout_15 (Dropout)        (None, 56, 56, 64)           0         ['conv2d_31[0][0]']           \n",
            "                                                                                                  \n",
            " conv2d_32 (Conv2D)          (None, 56, 56, 64)           36928     ['dropout_15[0][0]']          \n",
            "                                                                                                  \n",
            " conv2d_transpose_6 (Conv2D  (None, 112, 112, 32)         8224      ['conv2d_32[0][0]']           \n",
            " Transpose)                                                                                       \n",
            "                                                                                                  \n",
            " concatenate_6 (Concatenate  (None, 112, 112, 64)         0         ['conv2d_transpose_6[0][0]',  \n",
            " )                                                                   'conv2d_22[0][0]']           \n",
            "                                                                                                  \n",
            " conv2d_33 (Conv2D)          (None, 112, 112, 32)         18464     ['concatenate_6[0][0]']       \n",
            "                                                                                                  \n",
            " dropout_16 (Dropout)        (None, 112, 112, 32)         0         ['conv2d_33[0][0]']           \n",
            "                                                                                                  \n",
            " conv2d_34 (Conv2D)          (None, 112, 112, 32)         9248      ['dropout_16[0][0]']          \n",
            "                                                                                                  \n",
            " conv2d_transpose_7 (Conv2D  (None, 224, 224, 16)         2064      ['conv2d_34[0][0]']           \n",
            " Transpose)                                                                                       \n",
            "                                                                                                  \n",
            " concatenate_7 (Concatenate  (None, 224, 224, 32)         0         ['conv2d_transpose_7[0][0]',  \n",
            " )                                                                   'conv2d_20[0][0]']           \n",
            "                                                                                                  \n",
            " conv2d_35 (Conv2D)          (None, 224, 224, 16)         4624      ['concatenate_7[0][0]']       \n",
            "                                                                                                  \n",
            " dropout_17 (Dropout)        (None, 224, 224, 16)         0         ['conv2d_35[0][0]']           \n",
            "                                                                                                  \n",
            " conv2d_36 (Conv2D)          (None, 224, 224, 16)         2320      ['dropout_17[0][0]']          \n",
            "                                                                                                  \n",
            " conv2d_37 (Conv2D)          (None, 224, 224, 1)          17        ['conv2d_36[0][0]']           \n",
            "                                                                                                  \n",
            "==================================================================================================\n",
            "Total params: 1940817 (7.40 MB)\n",
            "Trainable params: 1940817 (7.40 MB)\n",
            "Non-trainable params: 0 (0.00 Byte)\n",
            "__________________________________________________________________________________________________\n"
          ]
        }
      ]
    },
    {
      "cell_type": "code",
      "source": [
        "history = model.fit(X_train, y_train,\n",
        "                    batch_size=10,\n",
        "                    verbose=1,\n",
        "                    epochs=40,\n",
        "                    validation_data=(X_test, y_test),\n",
        "                    shuffle=False)\n"
      ],
      "metadata": {
        "id": "GSbXDp3I2lfd",
        "colab": {
          "base_uri": "https://localhost:8080/"
        },
        "outputId": "5948f234-9251-4f38-93e0-bb9ed8540628"
      },
      "execution_count": null,
      "outputs": [
        {
          "output_type": "stream",
          "name": "stdout",
          "text": [
            "Epoch 1/40\n",
            "8/8 [==============================] - 16s 165ms/step - loss: 0.7255 - accuracy: 0.4927 - val_loss: 0.6744 - val_accuracy: 0.4698\n",
            "Epoch 2/40\n",
            "8/8 [==============================] - 1s 101ms/step - loss: 0.6717 - accuracy: 0.4973 - val_loss: 0.6598 - val_accuracy: 0.5455\n",
            "Epoch 3/40\n",
            "8/8 [==============================] - 1s 103ms/step - loss: 0.6411 - accuracy: 0.6249 - val_loss: 0.6800 - val_accuracy: 0.6713\n",
            "Epoch 4/40\n",
            "8/8 [==============================] - 1s 107ms/step - loss: 0.6654 - accuracy: 0.6769 - val_loss: 0.6047 - val_accuracy: 0.7556\n",
            "Epoch 5/40\n",
            "8/8 [==============================] - 1s 105ms/step - loss: 0.5555 - accuracy: 0.7672 - val_loss: 0.4954 - val_accuracy: 0.7749\n",
            "Epoch 6/40\n",
            "8/8 [==============================] - 1s 101ms/step - loss: 0.4433 - accuracy: 0.8153 - val_loss: 0.4735 - val_accuracy: 0.7834\n",
            "Epoch 7/40\n",
            "8/8 [==============================] - 1s 105ms/step - loss: 0.4145 - accuracy: 0.8540 - val_loss: 0.4811 - val_accuracy: 0.7963\n",
            "Epoch 8/40\n",
            "8/8 [==============================] - 1s 101ms/step - loss: 0.3176 - accuracy: 0.8919 - val_loss: 0.2880 - val_accuracy: 0.9196\n",
            "Epoch 9/40\n",
            "8/8 [==============================] - 1s 106ms/step - loss: 0.2548 - accuracy: 0.9251 - val_loss: 0.2962 - val_accuracy: 0.9048\n",
            "Epoch 10/40\n",
            "8/8 [==============================] - 1s 109ms/step - loss: 0.1914 - accuracy: 0.9311 - val_loss: 0.1997 - val_accuracy: 0.9274\n",
            "Epoch 11/40\n",
            "8/8 [==============================] - 1s 108ms/step - loss: 0.1819 - accuracy: 0.9352 - val_loss: 0.2104 - val_accuracy: 0.9248\n",
            "Epoch 12/40\n",
            "8/8 [==============================] - 1s 110ms/step - loss: 0.1505 - accuracy: 0.9459 - val_loss: 0.1743 - val_accuracy: 0.9417\n",
            "Epoch 13/40\n",
            "8/8 [==============================] - 1s 103ms/step - loss: 0.1387 - accuracy: 0.9493 - val_loss: 0.1793 - val_accuracy: 0.9436\n",
            "Epoch 14/40\n",
            "8/8 [==============================] - 1s 103ms/step - loss: 0.1257 - accuracy: 0.9532 - val_loss: 0.1544 - val_accuracy: 0.9475\n",
            "Epoch 15/40\n",
            "8/8 [==============================] - 1s 102ms/step - loss: 0.1205 - accuracy: 0.9556 - val_loss: 0.1470 - val_accuracy: 0.9510\n",
            "Epoch 16/40\n",
            "8/8 [==============================] - 1s 106ms/step - loss: 0.1148 - accuracy: 0.9562 - val_loss: 0.1476 - val_accuracy: 0.9522\n",
            "Epoch 17/40\n",
            "8/8 [==============================] - 1s 102ms/step - loss: 0.1063 - accuracy: 0.9596 - val_loss: 0.1383 - val_accuracy: 0.9544\n",
            "Epoch 18/40\n",
            "8/8 [==============================] - 1s 106ms/step - loss: 0.0989 - accuracy: 0.9626 - val_loss: 0.1308 - val_accuracy: 0.9587\n",
            "Epoch 19/40\n",
            "8/8 [==============================] - 1s 101ms/step - loss: 0.0965 - accuracy: 0.9636 - val_loss: 0.1274 - val_accuracy: 0.9608\n",
            "Epoch 20/40\n",
            "8/8 [==============================] - 1s 106ms/step - loss: 0.0871 - accuracy: 0.9673 - val_loss: 0.1141 - val_accuracy: 0.9605\n",
            "Epoch 21/40\n",
            "8/8 [==============================] - 1s 106ms/step - loss: 0.0859 - accuracy: 0.9669 - val_loss: 0.1123 - val_accuracy: 0.9635\n",
            "Epoch 22/40\n",
            "8/8 [==============================] - 1s 103ms/step - loss: 0.0797 - accuracy: 0.9694 - val_loss: 0.1015 - val_accuracy: 0.9655\n",
            "Epoch 23/40\n",
            "8/8 [==============================] - 1s 102ms/step - loss: 0.0746 - accuracy: 0.9711 - val_loss: 0.0949 - val_accuracy: 0.9673\n",
            "Epoch 24/40\n",
            "8/8 [==============================] - 1s 106ms/step - loss: 0.0799 - accuracy: 0.9689 - val_loss: 0.1259 - val_accuracy: 0.9559\n",
            "Epoch 25/40\n",
            "8/8 [==============================] - 1s 107ms/step - loss: 0.0802 - accuracy: 0.9691 - val_loss: 0.1027 - val_accuracy: 0.9653\n",
            "Epoch 26/40\n",
            "8/8 [==============================] - 1s 109ms/step - loss: 0.0743 - accuracy: 0.9705 - val_loss: 0.0925 - val_accuracy: 0.9681\n",
            "Epoch 27/40\n",
            "8/8 [==============================] - 1s 109ms/step - loss: 0.0707 - accuracy: 0.9723 - val_loss: 0.0836 - val_accuracy: 0.9722\n",
            "Epoch 28/40\n",
            "8/8 [==============================] - 1s 104ms/step - loss: 0.0639 - accuracy: 0.9749 - val_loss: 0.0796 - val_accuracy: 0.9717\n",
            "Epoch 29/40\n",
            "8/8 [==============================] - 1s 111ms/step - loss: 0.0668 - accuracy: 0.9738 - val_loss: 0.0872 - val_accuracy: 0.9720\n",
            "Epoch 30/40\n",
            "8/8 [==============================] - 1s 105ms/step - loss: 0.0633 - accuracy: 0.9752 - val_loss: 0.0787 - val_accuracy: 0.9710\n",
            "Epoch 31/40\n",
            "8/8 [==============================] - 1s 104ms/step - loss: 0.0629 - accuracy: 0.9742 - val_loss: 0.0864 - val_accuracy: 0.9703\n",
            "Epoch 32/40\n",
            "8/8 [==============================] - 1s 100ms/step - loss: 0.0633 - accuracy: 0.9747 - val_loss: 0.0794 - val_accuracy: 0.9729\n",
            "Epoch 33/40\n",
            "8/8 [==============================] - 1s 100ms/step - loss: 0.0604 - accuracy: 0.9757 - val_loss: 0.0784 - val_accuracy: 0.9722\n",
            "Epoch 34/40\n",
            "8/8 [==============================] - 1s 101ms/step - loss: 0.0629 - accuracy: 0.9746 - val_loss: 0.0768 - val_accuracy: 0.9754\n",
            "Epoch 35/40\n",
            "8/8 [==============================] - 1s 100ms/step - loss: 0.0585 - accuracy: 0.9762 - val_loss: 0.0747 - val_accuracy: 0.9730\n",
            "Epoch 36/40\n",
            "8/8 [==============================] - 1s 101ms/step - loss: 0.0569 - accuracy: 0.9773 - val_loss: 0.0712 - val_accuracy: 0.9750\n",
            "Epoch 37/40\n",
            "8/8 [==============================] - 1s 100ms/step - loss: 0.0564 - accuracy: 0.9768 - val_loss: 0.0712 - val_accuracy: 0.9740\n",
            "Epoch 38/40\n",
            "8/8 [==============================] - 1s 101ms/step - loss: 0.0543 - accuracy: 0.9777 - val_loss: 0.0725 - val_accuracy: 0.9744\n",
            "Epoch 39/40\n",
            "8/8 [==============================] - 1s 100ms/step - loss: 0.0526 - accuracy: 0.9786 - val_loss: 0.0667 - val_accuracy: 0.9760\n",
            "Epoch 40/40\n",
            "8/8 [==============================] - 1s 100ms/step - loss: 0.0680 - accuracy: 0.9758 - val_loss: 0.0835 - val_accuracy: 0.9720\n"
          ]
        }
      ]
    },
    {
      "cell_type": "code",
      "source": [
        "\n",
        "#plot the training and validation accuracy and loss at each epoch\n",
        "loss = history.history['loss']\n",
        "val_loss = history.history['val_loss']\n",
        "epochs = range(1, len(loss) + 1)\n",
        "plt.plot(epochs, loss, 'y', label='Training loss')\n",
        "plt.plot(epochs, val_loss, 'r', label='Validation loss')\n",
        "plt.title('Training and validation loss')\n",
        "plt.xlabel('Epochs')\n",
        "plt.ylabel('Loss')\n",
        "plt.legend()\n",
        "plt.show()\n",
        "\n",
        "acc = history.history['accuracy']\n",
        "val_acc = history.history['val_accuracy']\n",
        "plt.plot(epochs, acc, 'y', label='Training acc')\n",
        "plt.plot(epochs, val_acc, 'r', label='Validation acc')\n",
        "plt.title('Training and validation accuracy')\n",
        "plt.xlabel('Epochs')\n",
        "plt.ylabel('Accuracy')\n",
        "plt.legend()\n",
        "plt.show()"
      ],
      "metadata": {
        "id": "CWJTzSUIGCuG",
        "colab": {
          "base_uri": "https://localhost:8080/",
          "height": 927
        },
        "outputId": "5b254d2b-9c22-46f2-aefe-ec93f83a96d3"
      },
      "execution_count": null,
      "outputs": [
        {
          "output_type": "display_data",
          "data": {
            "text/plain": [
              "<Figure size 640x480 with 1 Axes>"
            ],
            "image/png": "[encoded data removed]"
          },
          "metadata": {}
        },
        {
          "output_type": "display_data",
          "data": {
            "text/plain": [
              "<Figure size 640x480 with 1 Axes>"
            ],
            "image/png": "[encoded data removed]"
          },
          "metadata": {}
        }
      ]
    },
    {
      "cell_type": "code",
      "source": [
        "# # #Save the model for future use\n",
        "# model.save('/content/drive/MyDrive/saved_models/mod_U.hdf5')"
      ],
      "metadata": {
        "id": "8Gc-CC8wO2j3",
        "colab": {
          "base_uri": "https://localhost:8080/"
        },
        "outputId": "02d6a0b9-446d-42de-9e4b-744cfdc2a369"
      },
      "execution_count": null,
      "outputs": [
        {
          "output_type": "stream",
          "name": "stderr",
          "text": [
            "/usr/local/lib/python3.10/dist-packages/keras/src/engine/training.py:3103: UserWarning: You are saving your model as an HDF5 file via `model.save()`. This file format is considered legacy. We recommend using instead the native Keras format, e.g. `model.save('my_model.keras')`.\n",
            "  saving_api.save_model(\n"
          ]
        }
      ]
    },
    {
      "cell_type": "code",
      "source": [
        "# from keras.models import load_model\n",
        "# model = load_model(\"/content/drive/MyDrive/saved_models/mod.hdf5\", compile=False)"
      ],
      "metadata": {
        "id": "B_HCsexBfHX3"
      },
      "execution_count": null,
      "outputs": []
    },
    {
      "cell_type": "code",
      "source": [
        "#IOU\n",
        "y_pred=model.predict(X_test)\n",
        "y_pred_thresholded = y_pred > 0.5"
      ],
      "metadata": {
        "colab": {
          "base_uri": "https://localhost:8080/"
        },
        "id": "RigIuP1wIYQC",
        "outputId": "1898faff-f950-478b-a500-2822bc46c9b3"
      },
      "execution_count": null,
      "outputs": [
        {
          "output_type": "stream",
          "name": "stdout",
          "text": [
            "1/1 [==============================] - 5s 5s/step\n"
          ]
        }
      ]
    },
    {
      "cell_type": "code",
      "source": [
        "\n",
        "from tensorflow.keras.metrics import MeanIoU"
      ],
      "metadata": {
        "id": "q5zdJPdlIev-"
      },
      "execution_count": null,
      "outputs": []
    },
    {
      "cell_type": "code",
      "source": [
        "\n",
        "n_classes = 2\n",
        "IOU_keras = MeanIoU(num_classes=n_classes)\n",
        "IOU_keras.update_state(y_pred_thresholded, y_test)\n",
        "print(\"Mean IoU =\", IOU_keras.result().numpy())\n"
      ],
      "metadata": {
        "colab": {
          "base_uri": "https://localhost:8080/"
        },
        "id": "ZTDEUuEqJNfD",
        "outputId": "7d9d2d71-fadd-46a5-a73e-fb2186959988"
      },
      "execution_count": null,
      "outputs": [
        {
          "output_type": "stream",
          "name": "stdout",
          "text": [
            "Mean IoU = 0.9454847\n"
          ]
        }
      ]
    },
    {
      "cell_type": "code",
      "source": [
        "# import tensorflow as tf\n",
        "# from keras import backend as K\n",
        "\n",
        "# def dice_coefficient(y_test, y_pred):\n",
        "#     smooth = 1e-5  # smoothing factor to avoid division by zero\n",
        "#     intersection = K.sum(y_test * y_pred, axis=[1,2,3])\n",
        "#     union = K.sum(y_test, axis=[1,2,3]) + K.sum(y_pred, axis=[1,2,3])\n",
        "#     dice = (2. * intersection + smooth) / (union + smooth)\n",
        "#     return dice\n",
        "\n",
        "# # Assuming y_pred_thresholded and y_test are your predicted and true labels, respectively\n",
        "# dice_metric = dice_coefficient(y_test, y_pred_thresholded)\n",
        "\n",
        "# # Get the result and print the Dice Coefficient\n",
        "# print(\"Dice Coefficient =\", K.mean(dice_metric).numpy())"
      ],
      "metadata": {
        "id": "qY8ygWJ79TgK"
      },
      "execution_count": null,
      "outputs": []
    },
    {
      "cell_type": "code",
      "source": [
        "\n",
        "# threshold = 0.5\n",
        "# test_img_number = random.randint(0, len(X_test)-1)\n",
        "# test_img = X_test[test_img_number]\n",
        "# ground_truth=y_test[test_img_number]\n",
        "# test_img_input=np.expand_dims(test_img, 0)\n",
        "# print(test_img_input.shape)\n",
        "# prediction = (model.predict(test_img_input)[0,:,:,0] > 0.5).astype(np.uint8)\n",
        "# print(prediction.shape)\n",
        "\n",
        "# plt.figure(figsize=(16, 8))\n",
        "# plt.subplot(231)\n",
        "# plt.title('Testing Image')\n",
        "# plt.imshow(test_img[:,:,0], cmap='gray')\n",
        "# plt.subplot(232)\n",
        "# plt.title('Testing Label')\n",
        "# plt.imshow(ground_truth[:,:,0], cmap='gray')\n",
        "# plt.subplot(233)\n",
        "# plt.title('Prediction on test image')\n",
        "# plt.imshow(prediction, cmap='gray')\n",
        "\n",
        "# plt.show()"
      ],
      "metadata": {
        "id": "riY6qV6uJQAf"
      },
      "execution_count": null,
      "outputs": []
    },
    {
      "cell_type": "code",
      "source": [
        "import matplotlib.pyplot as plt\n",
        "import numpy as np\n",
        "import random\n",
        "\n",
        "# Select a random test image and its ground truth\n",
        "threshold = 0.5\n",
        "test_img_number = random.randint(0, len(X_test)-1)\n",
        "test_img = X_test[test_img_number]\n",
        "ground_truth = y_test[test_img_number]\n",
        "\n",
        "# Prepare the image for prediction\n",
        "test_img_input = np.expand_dims(test_img, 0)\n",
        "\n",
        "# Predict the mask\n",
        "prediction = (model.predict(test_img_input)[0,:,:,0] > threshold).astype(np.uint8)\n",
        "\n",
        "# Segment the original image using the predicted mask\n",
        "segmented_image = test_img[:,:,0] * prediction  # Element-wise multiplication\n",
        "\n",
        "# Display the results\n",
        "plt.figure(figsize=(16, 8))\n",
        "plt.subplot(231)\n",
        "plt.title('Testing Image')\n",
        "plt.imshow(test_img[:,:,0], cmap='gray')\n",
        "plt.subplot(232)\n",
        "plt.title('Testing Label')\n",
        "plt.imshow(ground_truth[:,:,0], cmap='gray')\n",
        "plt.subplot(233)\n",
        "plt.title('Prediction on test image')\n",
        "plt.imshow(prediction, cmap='gray')\n",
        "plt.subplot(234)\n",
        "plt.title('Segmented Image')\n",
        "plt.imshow(segmented_image, cmap='gray')\n",
        "\n",
        "plt.show()\n"
      ],
      "metadata": {
        "id": "rybxlTtEQeM5"
      },
      "execution_count": null,
      "outputs": []
    },
    {
      "cell_type": "code",
      "source": [
        "import os\n",
        "import cv2\n",
        "import numpy as np\n",
        "from tqdm import tqdm\n",
        "from keras.models import load_model\n",
        "\n",
        "# Load the trained UNet model\n",
        "model = load_model('/content/drive/MyDrive/saved_models/mod.hdf5',compile='False')\n",
        "\n",
        "# Define the function to segment an image\n",
        "def segment_image(original_image):\n",
        "    # Preprocess the original image (if needed)\n",
        "\n",
        "    # Predict the mask\n",
        "    predicted_mask = model.predict(np.expand_dims(original_image, axis=0))[0,:,:,0]\n",
        "\n",
        "    # Threshold the predicted mask\n",
        "    threshold = 0.5  # Adjust as needed\n",
        "    binary_mask = (predicted_mask > threshold).astype(np.uint8)\n",
        "\n",
        "    # Apply the binary mask to the original image to segment it\n",
        "    segmented_image = cv2.bitwise_and(original_image, original_image, mask=binary_mask)\n",
        "\n",
        "    return segmented_image\n",
        "\n",
        "# Folder containing original images\n",
        "input_folder = '/content/drive/MyDrive/Dataset/seg-normal'\n",
        "\n",
        "# Folder to save segmented images\n",
        "output_folder = '/content/drive/MyDrive/unet-images/temp_N'\n",
        "\n",
        "# Create the output folder if it doesn't exist\n",
        "if not os.path.exists(output_folder):\n",
        "    os.makedirs(output_folder)\n",
        "\n",
        "# Iterate through all images in the input folder\n",
        "for filename in tqdm(os.listdir(input_folder)):\n",
        "    # Load the original image\n",
        "    original_image = cv2.imread(os.path.join(input_folder, filename), cv2.IMREAD_GRAYSCALE)\n",
        "\n",
        "    # Segment the image\n",
        "    segmented_image = segment_image(original_image)\n",
        "\n",
        "    # Save the segmented image with the same filename\n",
        "    output_path = os.path.join(output_folder, filename)\n",
        "    cv2.imwrite(output_path, segmented_image)\n",
        "\n",
        "print(\"Segmentation completed.\")\n"
      ],
      "metadata": {
        "id": "GjivTF3ZfaYw"
      },
      "execution_count": null,
      "outputs": []
    },
    {
      "cell_type": "code",
      "source": [
        "import os\n",
        "import cv2\n",
        "import numpy as np\n",
        "from tqdm import tqdm\n",
        "from keras.models import load_model\n",
        "\n",
        "# Load the trained UNet model\n",
        "model = load_model('/content/drive/MyDrive/saved_models/mod.hdf5', compile=False)\n",
        "\n",
        "# Define the function to segment an image\n",
        "def segment_image(original_image):\n",
        "    # Preprocess the original image (if needed)\n",
        "\n",
        "    # Predict the mask\n",
        "    predicted_mask = model.predict(np.expand_dims(original_image, axis=0))[0,:,:,0]\n",
        "\n",
        "    # Threshold the predicted mask\n",
        "    threshold = 0.5  # Adjust as needed\n",
        "    binary_mask = (predicted_mask > threshold).astype(np.uint8)\n",
        "\n",
        "    return binary_mask\n",
        "\n",
        "# Folder containing original images\n",
        "input_folder = '/content/drive/MyDrive/Dataset/a'\n",
        "\n",
        "# Folder to save binary mask images\n",
        "output_folder = '/content/drive/MyDrive/unet-images/temp_d'\n",
        "\n",
        "# Create the output folder if it doesn't exist\n",
        "if not os.path.exists(output_folder):\n",
        "    os.makedirs(output_folder)\n",
        "\n",
        "# Iterate through all images in the input folder\n",
        "for filename in tqdm(os.listdir(input_folder)):\n",
        "    # Load the original image\n",
        "    original_image = cv2.imread(os.path.join(input_folder, filename), cv2.IMREAD_GRAYSCALE)\n",
        "\n",
        "    # Segment the image\n",
        "    binary_mask = segment_image(original_image)\n",
        "\n",
        "    # Convert the binary mask to a grayscale image\n",
        "    binary_mask_image = (binary_mask * 255).astype(np.uint8)\n",
        "\n",
        "    # Save the binary mask image with the same filename\n",
        "    output_path = os.path.join(output_folder, filename)\n",
        "    cv2.imwrite(output_path, binary_mask_image)\n",
        "\n",
        "print(\"Binary mask images saved.\")\n"
      ],
      "metadata": {
        "id": "PSyIIp_4jDGz",
        "colab": {
          "base_uri": "https://localhost:8080/"
        },
        "outputId": "1cd96708-986b-4ffe-8a40-8bea27ba54b2"
      },
      "execution_count": null,
      "outputs": [
        {
          "output_type": "stream",
          "name": "stderr",
          "text": [
            "\r  0%|          | 0/1 [00:00<?, ?it/s]"
          ]
        },
        {
          "output_type": "stream",
          "name": "stdout",
          "text": [
            "1/1 [==============================] - 0s 349ms/step\n"
          ]
        },
        {
          "output_type": "stream",
          "name": "stderr",
          "text": [
            "100%|██████████| 1/1 [00:00<00:00,  2.32it/s]"
          ]
        },
        {
          "output_type": "stream",
          "name": "stdout",
          "text": [
            "Binary mask images saved.\n"
          ]
        },
        {
          "output_type": "stream",
          "name": "stderr",
          "text": [
            "\n"
          ]
        }
      ]
    }
  ]
}